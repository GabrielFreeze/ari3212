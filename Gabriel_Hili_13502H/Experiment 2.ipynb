{
 "cells": [
  {
   "cell_type": "code",
   "execution_count": 13,
   "id": "457f82b8",
   "metadata": {
    "ExecuteTime": {
     "end_time": "2023-01-05T15:27:47.656192Z",
     "start_time": "2023-01-05T15:27:47.646192Z"
    }
   },
   "outputs": [],
   "source": [
    "import gym\n",
    "import copy\n",
    "import torch\n",
    "import random\n",
    "import warnings\n",
    "import itertools\n",
    "import numpy as np\n",
    "import pandas as pd\n",
    "import torch.nn as nn\n",
    "from torch import optim\n",
    "from typing import Sequence\n",
    "import matplotlib.pyplot as plt\n",
    "import torch.nn.functional as F\n",
    "from itertools import count, chain\n",
    "from torch.distributions import Normal\n",
    "from collections import namedtuple, deque\n",
    "\n",
    "warnings.filterwarnings(\"ignore\")\n",
    "\n",
    "device = 'cuda:0' if torch.cuda.is_available() else 'cpu'"
   ]
  },
  {
   "cell_type": "markdown",
   "id": "4aa3f083",
   "metadata": {
    "heading_collapsed": true
   },
   "source": [
    "# Soft Actor Critic (SAC)"
   ]
  },
  {
   "cell_type": "code",
   "execution_count": 14,
   "id": "798d130b",
   "metadata": {
    "ExecuteTime": {
     "end_time": "2023-01-05T15:27:48.963474Z",
     "start_time": "2023-01-05T15:27:48.933461Z"
    },
    "code_folding": [
     93
    ],
    "hidden": true
   },
   "outputs": [],
   "source": [
    "#Define Actor Network\n",
    "class PolicyNet(nn.Module):\n",
    "\n",
    "    def __init__(self, input_size, hidden_units, output_size, pmin, pmax):\n",
    "        super(PolicyNet, self).__init__()\n",
    "        self.pmin = pmin\n",
    "        self.pmax = pmax\n",
    "        self.model = nn.Sequential(\n",
    "            nn.Linear(input_size, hidden_units, device=device),\n",
    "            nn.ReLU(),\n",
    "            nn.Linear(hidden_units, int(hidden_units/2), device=device),\n",
    "            nn.Tanh()\n",
    "        )\n",
    "        self.mu_head = nn.Linear(int(hidden_units/2),  output_size, device=device)\n",
    "        self.logstd_head = nn.Linear(int(hidden_units/2),  output_size, device=device)\n",
    "\n",
    "    def forward(self, x):\n",
    "        x.to(device)\n",
    "        x = self.model(x)\n",
    "        loc = torch.tanh(self.mu_head(x)) * self.pmax\n",
    "        scale = torch.exp(self.logstd_head(x))\n",
    "\n",
    "        dist = Normal(loc, scale)\n",
    "        action = dist.rsample()\n",
    "        log_prob = dist.log_prob(action)\n",
    "        log_prob = log_prob.sum(dim=-1, keepdim=True)\n",
    "        log_prob -= (2* (np.log(2) - action - F.softplus(-2*action))).sum(dim=-1, keepdim=True)\n",
    "\n",
    "        action = torch.tanh(action) * self.pmax\n",
    "\n",
    "        return action, log_prob\n",
    "\n",
    "#Define Critic Network\n",
    "class DQN(nn.Module):\n",
    "\n",
    "    def __init__(self, input_size, hidden_units):\n",
    "        super(DQN, self).__init__()\n",
    "        self.Q = nn.Sequential(\n",
    "            nn.Linear(input_size, hidden_units, device=device),\n",
    "            nn.ReLU(),\n",
    "            nn.Linear(hidden_units, int(hidden_units/2), device=device),\n",
    "            nn.ReLU(),\n",
    "            nn.Linear(int(hidden_units/2), 1, device=device)\n",
    "        )\n",
    "\n",
    "    def forward(self, state, action):\n",
    "        x = torch.cat([state, action], 1).to(device)\n",
    "        q = self.Q(x)\n",
    "        return q\n",
    "    \n",
    "    def __call__(self, state, action):\n",
    "        out = self.forward(state, action)\n",
    "        return out\n",
    "\n",
    "\n",
    "#Define Replay Memory\n",
    "Transition = namedtuple('Transition', ('states', 'actions', 'rewards', 'dones', 'next_states'))\n",
    "\n",
    "class Replay_memory():\n",
    "\n",
    "    def __init__(self, env, fullsize, minsize, batchsize):\n",
    "        self.env = env\n",
    "        self.memory = deque(maxlen=fullsize)\n",
    "        self.rewards = deque(maxlen=50)\n",
    "        self.batchsize = batchsize\n",
    "        self.minsize = minsize\n",
    "\n",
    "    def append(self, transition):\n",
    "        self.memory.append(transition)\n",
    "    \n",
    "    def sample_batch(self):\n",
    "        batch = random.sample(self.memory, self.batchsize)\n",
    "        batch = Transition(*zip(*batch))\n",
    "        states = torch.from_numpy(np.array(batch.states, dtype=np.float32)).to(device)\n",
    "        actions = torch.from_numpy(np.array(batch.actions, dtype=np.float32)).to(device)\n",
    "        rewards = torch.from_numpy(np.array(batch.rewards, dtype=np.float32)).unsqueeze(1).to(device)\n",
    "        dones = torch.from_numpy(np.array(batch.dones, dtype=np.bool8)).unsqueeze(1).to(device)\n",
    "        next_states = torch.from_numpy(np.array(batch.next_states, dtype=np.float32)).to(device)\n",
    "        \n",
    "        return states, actions, rewards, dones, next_states\n",
    "\n",
    "    def initialize(self):\n",
    "        obs = env.reset()\n",
    "        for _ in range(self.minsize):\n",
    "            action = self.env.action_space.sample()\n",
    "            new_obs, reward, done, info = env.step(action)\n",
    "            transition = Transition(obs, action, reward, done, new_obs)\n",
    "            self.append(transition)\n",
    "            obs = new_obs\n",
    "            if done:\n",
    "                self.env.reset()\n",
    "        return self\n",
    "\n",
    "def epsilon_greedy_policy(epsilon, policynet, obs):\n",
    "    if random.random() > epsilon:\n",
    "        action, _ = policynet(T(obs))\n",
    "        action = action.cpu().numpy()\n",
    "    else:\n",
    "        action = env.action_space.sample()\n",
    "    return action\n",
    "\n",
    "#Define Constants\n",
    "GAMMA = 0.99\n",
    "BATCH_SIZE = 64\n",
    "BUFFER_SIZE = 10000\n",
    "MIN_REPLAY_SIZE = 5000\n",
    "TAU = 0.05\n",
    "POLICY_NOISE=0.2\n",
    "NOISE_CLIP=0.5\n",
    "EXPL_NOISE=0.1\n",
    "POLICY_FREQ=2\n",
    "EPSILON = 0.05\n",
    "ALPHA = 0.02\n",
    "\n",
    "#For Brevity\n",
    "T  = lambda x: torch.as_tensor(x, dtype=torch.float32, device=device)\n",
    "Ti = lambda x: torch.as_tensor(x, dtype=torch.int64, device=device)"
   ]
  },
  {
   "cell_type": "code",
   "execution_count": 15,
   "id": "c7fd5467",
   "metadata": {
    "ExecuteTime": {
     "end_time": "2023-01-05T15:27:52.388399Z",
     "start_time": "2023-01-05T15:27:51.249038Z"
    },
    "hidden": true
   },
   "outputs": [],
   "source": [
    "env = gym.make(env_name := 'LunarLanderContinuous-v2')\n",
    "obs_size = env.observation_space.shape[0]\n",
    "act_size = env.action_space.shape[0]\n",
    "\n",
    "output_minrange = T(env.action_space.low)\n",
    "output_maxrange = T(env.action_space.high)\n",
    "\n",
    "hiddenlayers = 256\n",
    "\n",
    "#Replay Memory\n",
    "replay_memory = Replay_memory(env, BUFFER_SIZE,\n",
    "                              MIN_REPLAY_SIZE, BATCH_SIZE).initialize()\n",
    "\n",
    "\n",
    "# Actor-Critic networks\n",
    "q_net1 = DQN(obs_size + act_size, hiddenlayers)\n",
    "q_net2 = DQN(obs_size + act_size, hiddenlayers)\n",
    "actor = PolicyNet(obs_size, hiddenlayers, act_size, output_minrange, output_maxrange)\n",
    "\n",
    "q_net1_target = copy.deepcopy(q_net1)\n",
    "q_net2_target = copy.deepcopy(q_net2)\n",
    "actor_target = copy.deepcopy(actor)\n",
    "\n",
    "# Optimizers\n",
    "q_net_params = itertools.chain(q_net1.parameters(), q_net2.parameters())\n",
    "q_net_optimizer = optim.AdamW(q_net_params, lr=0.001)\n",
    "policy_optimizer = optim.AdamW(actor.parameters(), lr=0.001)"
   ]
  },
  {
   "cell_type": "code",
   "execution_count": 16,
   "id": "9201665a",
   "metadata": {
    "ExecuteTime": {
     "end_time": "2023-01-05T15:27:53.405156Z",
     "start_time": "2023-01-05T15:27:53.394155Z"
    },
    "hidden": true
   },
   "outputs": [],
   "source": [
    "def update(step):\n",
    "    states, actions, rewards, dones, next_states = replay_memory.sample_batch()\n",
    "\n",
    "    #Critic Loss\n",
    "    action_values1 = q_net1(states, actions)\n",
    "    action_values2 = q_net2(states, actions)\n",
    "\n",
    "    with torch.no_grad():\n",
    "        target_actions, target_log_probs = actor(next_states)\n",
    "\n",
    "        next_action_values = torch.min(\n",
    "            q_net1_target(next_states, target_actions),\n",
    "            q_net2_target(next_states, target_actions)\n",
    "        )\n",
    "        next_action_values[dones] = 0.0\n",
    "        target = rewards + GAMMA * (next_action_values - ALPHA * target_log_probs)\n",
    "\n",
    "    Qloss1 = F.smooth_l1_loss(target, action_values1)\n",
    "    Qloss2 = F.smooth_l1_loss(target, action_values2)\n",
    "    Qloss_total = (Qloss1 + Qloss2)\n",
    "\n",
    "    q_net_optimizer.zero_grad()\n",
    "    Qloss_total.backward()\n",
    "    q_net_optimizer.step()\n",
    "\n",
    "    #Policy Loss\n",
    "    actions, log_probs = actor(states)\n",
    "    action_values = torch.min(\n",
    "        q_net1(states, actions),\n",
    "        q_net2(states, actions)\n",
    "    )\n",
    "    policy_loss = (ALPHA * log_probs - action_values).mean()\n",
    "\n",
    "    policy_optimizer.zero_grad()\n",
    "    policy_loss.backward()\n",
    "    policy_optimizer.step()\n",
    "\n",
    "    for target_param, param in zip(q_net1_target.parameters(), q_net1.parameters()):\n",
    "        target_param.data.copy_(param.data * TAU + target_param.data * (1.0 - TAU))\n",
    "\n",
    "    for target_param, param in zip(q_net2_target.parameters(), q_net2.parameters()):\n",
    "        target_param.data.copy_(param.data * TAU + target_param.data * (1.0 - TAU))\n",
    "\n",
    "    for target_param, param in zip(actor_target.parameters(), actor.parameters()):\n",
    "        target_param.data.copy_(param.data * TAU + target_param.data * (1.0 - TAU))"
   ]
  },
  {
   "cell_type": "markdown",
   "id": "fd4ab969",
   "metadata": {
    "heading_collapsed": true,
    "hidden": true
   },
   "source": [
    "## Training"
   ]
  },
  {
   "cell_type": "code",
   "execution_count": 17,
   "id": "31c7ce58",
   "metadata": {
    "ExecuteTime": {
     "end_time": "2023-01-05T15:44:37.046801Z",
     "start_time": "2023-01-05T15:27:55.644101Z"
    },
    "code_folding": [],
    "hidden": true
   },
   "outputs": [
    {
     "name": "stdout",
     "output_type": "stream",
     "text": [
      "Episode: 100  Return: -39.89811000338614  Average Return: 129.50240914007054                    \n",
      "Solved! Episode: 145  Return: 279.01773422721504  Average Return: 196.5885501154879            \n"
     ]
    }
   ],
   "source": [
    "returns = deque(maxlen=50)\n",
    "history = []\n",
    "\n",
    "for episode in count():\n",
    "    state = env.reset()\n",
    "    episode_reward = 0\n",
    "    done = False\n",
    "    while not done:\n",
    "        with torch.no_grad():\n",
    "            action = epsilon_greedy_policy(EPSILON, actor, state)\n",
    "        new_state, reward, done, _ = env.step(action) \n",
    "        transition = Transition(state, action, reward, done, new_state)\n",
    "        replay_memory.append(transition)\n",
    "        update(episode)         \n",
    "        state = new_state\n",
    "        episode_reward += reward\n",
    "            \n",
    "    returns.append(episode_reward)\n",
    "    score = np.mean(returns)\n",
    "    \n",
    "    history.append((episode,score))\n",
    "    \n",
    "    print(f'Episode: {episode}  Return: {episode_reward}  Average Return: {score}                   ', end='\\r')\n",
    "    \n",
    "    if episode > 0 and episode % 100 == 0:\n",
    "        print(f'Episode: {episode}  Return: {episode_reward}  Average Return: {score}')\n",
    "    if score >= 195:\n",
    "        print(f'Solved! Episode: {episode}  Return: {episode_reward}  Average Return: {score}')\n",
    "        break\n"
   ]
  },
  {
   "cell_type": "code",
   "execution_count": 18,
   "id": "7bc92847",
   "metadata": {
    "ExecuteTime": {
     "end_time": "2023-01-05T15:44:37.172146Z",
     "start_time": "2023-01-05T15:44:37.047801Z"
    },
    "hidden": true
   },
   "outputs": [
    {
     "data": {
      "image/png": "[encoded data removed]",
      "text/plain": [
       "<Figure size 640x480 with 1 Axes>"
      ]
     },
     "metadata": {},
     "output_type": "display_data"
    }
   ],
   "source": [
    "history = pd.DataFrame(\n",
    "    history, columns=['Episode', 'Score'])\n",
    "\n",
    "(fig, ax) = plt.subplots(1, 1)\n",
    "\n",
    "ax.plot(history['Episode'], history['Score'])\n",
    "\n",
    "ax.set_xlabel('Episode')\n",
    "ax.set_ylabel('Score over last 50 episodes')\n",
    "\n",
    "plt.show()"
   ]
  },
  {
   "cell_type": "markdown",
   "id": "ccecc956",
   "metadata": {},
   "source": [
    "# DDPG"
   ]
  },
  {
   "cell_type": "code",
   "execution_count": 6,
   "id": "b867441b",
   "metadata": {
    "ExecuteTime": {
     "end_time": "2023-01-05T13:21:56.227405Z",
     "start_time": "2023-01-05T13:21:56.210127Z"
    }
   },
   "outputs": [],
   "source": [
    "GAMMA = 0.99\n",
    "BATCH_SIZE = 64\n",
    "BUFFER_SIZE = 10000\n",
    "MIN_REPLAY_SIZE = 5000\n",
    "TAU = 0.01"
   ]
  },
  {
   "cell_type": "code",
   "execution_count": 7,
   "id": "19092cfc",
   "metadata": {
    "ExecuteTime": {
     "end_time": "2023-01-05T13:21:56.962674Z",
     "start_time": "2023-01-05T13:21:56.939677Z"
    },
    "code_folding": [
     1,
     5,
     26,
     51,
     73
    ]
   },
   "outputs": [],
   "source": [
    "# Random noise generator: Taken from OpenAI baselines\n",
    "class ActionNoise(object):\n",
    "    def reset(self):\n",
    "        pass\n",
    "\n",
    "class OrnsteinUhlenbeckActionNoise(ActionNoise):\n",
    "    def __init__(self, mu, sigma, theta=.15, dt=1e-2, x0=None):\n",
    "        self.theta = theta\n",
    "        self.mu = mu\n",
    "        self.sigma = sigma\n",
    "        self.dt = dt\n",
    "        self.x0 = x0\n",
    "        self.reset()\n",
    "\n",
    "    def __call__(self):\n",
    "        x = self.x_prev + self.theta * (self.mu - self.x_prev) * self.dt + self.sigma * np.sqrt(self.dt) * np.random.normal(size=self.mu.shape)\n",
    "        self.x_prev = x\n",
    "        return x\n",
    "\n",
    "    def reset(self):\n",
    "        self.x_prev = self.x0 if self.x0 is not None else np.zeros_like(self.mu)\n",
    "\n",
    "    def __repr__(self):\n",
    "        return 'OrnsteinUhlenbeckActionNoise(mu={}, sigma={})'.format(self.mu, self.sigma)\n",
    "\n",
    "# Policy/Actor Network\n",
    "class PolicyNet(nn.Module):\n",
    "\n",
    "    def __init__(self, input_size, hidden_units, output_size, pmin, pmax):\n",
    "        super(PolicyNet, self).__init__()\n",
    "        self.pmin = pmin\n",
    "        self.pmax = pmax\n",
    "        self.model = nn.Sequential(\n",
    "            nn.Linear(input_size, hidden_units, device=device),\n",
    "            nn.ReLU(),\n",
    "            nn.Linear(hidden_units, int(hidden_units/2), device=device),\n",
    "            nn.ReLU(),\n",
    "            nn.Linear(int(hidden_units/2), output_size, device=device),\n",
    "            nn.Tanh()\n",
    "        )\n",
    "\n",
    "    def forward(self, x):\n",
    "        x = self.model(x) * self.pmax\n",
    "        torch.clip_(x, self.pmin, self.pmax)\n",
    "        return x\n",
    "\n",
    "    def __call__(self, x):\n",
    "        out = self.forward(x)\n",
    "        return out\n",
    "\n",
    "#Critic Network\n",
    "class DQN(nn.Module):\n",
    "\n",
    "    def __init__(self, input_size, hidden_units):\n",
    "        super(DQN, self).__init__()\n",
    "        self.model = nn.Sequential(\n",
    "            nn.Linear(input_size, hidden_units, device=device),\n",
    "            nn.ReLU(),\n",
    "            nn.Linear(hidden_units, int(hidden_units/2), device=device),\n",
    "            nn.ReLU(),\n",
    "            nn.Linear(int(hidden_units/2), 1, device=device)\n",
    "        )\n",
    "\n",
    "    def forward(self, state, action):\n",
    "        x = torch.cat([state, action], 1)\n",
    "        x = self.model(x)\n",
    "        return x\n",
    "\n",
    "    def __call__(self, state, action):\n",
    "        out = self.forward(state, action)\n",
    "        return out\n",
    "    \n",
    "Transition = namedtuple('Transition', ('states', 'actions', 'rewards', 'dones', 'next_states'))\n",
    "class Replay_memory():\n",
    "\n",
    "    def __init__(self, env, fullsize, minsize, batchsize):\n",
    "        self.env = env\n",
    "        self.memory = deque(maxlen=fullsize)\n",
    "        self.rewards = deque(maxlen=50)\n",
    "        self.batchsize = batchsize\n",
    "        self.minsize = minsize\n",
    "\n",
    "    def append(self, transition):\n",
    "        self.memory.append(transition)\n",
    "    \n",
    "    def sample_batch(self):\n",
    "        batch = random.sample(self.memory, self.batchsize)\n",
    "        batch = Transition(*zip(*batch))\n",
    "        states = torch.from_numpy(np.array(batch.states, dtype=np.float32)).to(device)\n",
    "        actions = torch.from_numpy(np.array(batch.actions, dtype=np.float32)).to(device)\n",
    "        rewards = torch.from_numpy(np.array(batch.rewards, dtype=np.float32)).unsqueeze(1).to(device)\n",
    "        dones = torch.from_numpy(np.array(batch.dones, dtype=np.bool8)).unsqueeze(1).to(device)\n",
    "        next_states = torch.from_numpy(np.array(batch.next_states, dtype=np.float32)).to(device)\n",
    "        return states, actions, rewards, dones, next_states\n",
    "\n",
    "    def initialize(self):\n",
    "        obs = env.reset()\n",
    "        for _ in range(self.minsize):\n",
    "            action = self.env.action_space.sample()\n",
    "            new_obs, reward, done, info = env.step(action)\n",
    "            transition = Transition(obs, action, reward, done, new_obs)\n",
    "            self.append(transition)\n",
    "            obs = new_obs\n",
    "            if done:\n",
    "                self.env.reset()\n",
    "        return self\n",
    "    \n",
    "T = lambda x: torch.as_tensor(x, dtype=torch.float32, device=device)\n",
    "Ti = lambda x: torch.as_tensor(x, dtype=torch.int64, device=device)"
   ]
  },
  {
   "cell_type": "code",
   "execution_count": 8,
   "id": "3b942059",
   "metadata": {
    "ExecuteTime": {
     "end_time": "2023-01-05T13:21:58.954223Z",
     "start_time": "2023-01-05T13:21:57.888971Z"
    }
   },
   "outputs": [],
   "source": [
    "std_dev = 0.2\n",
    "ou_noise = OrnsteinUhlenbeckActionNoise(mu=np.zeros(1), sigma=float(std_dev) * np.ones(1))\n",
    "\n",
    "env = gym.make(env_name := 'LunarLanderContinuous-v2')\n",
    "obs = env.reset()\n",
    "episode_reward = 0.0\n",
    "\n",
    "obs_size = env.observation_space.shape[0]\n",
    "act_size = env.action_space.shape[0]\n",
    "hiddenlayers = 128\n",
    "output_minrange = env.action_space.low\n",
    "output_maxrange = env.action_space.high\n",
    "\n",
    "replay_memory = Replay_memory(env, BUFFER_SIZE,\n",
    "                              MIN_REPLAY_SIZE, BATCH_SIZE).initialize()\n",
    "\n",
    "actor = PolicyNet(obs_size, hiddenlayers, act_size, T(output_minrange), T(output_maxrange))\n",
    "actor_target = copy.deepcopy(actor)\n",
    "critic = DQN(obs_size + act_size, hiddenlayers)\n",
    "critic_target = copy.deepcopy(critic)\n",
    "\n",
    "actor_optimizer  = optim.AdamW(actor.parameters(), lr=0.0003)\n",
    "critic_optimizer = optim.AdamW(critic.parameters(), lr=0.0003)"
   ]
  },
  {
   "cell_type": "code",
   "execution_count": 10,
   "id": "ebe34050",
   "metadata": {
    "ExecuteTime": {
     "end_time": "2023-01-05T13:22:20.561118Z",
     "start_time": "2023-01-05T13:22:20.542990Z"
    },
    "code_folding": []
   },
   "outputs": [],
   "source": [
    "def update():\n",
    "        states, actions, rewards, dones, next_states = replay_memory.sample_batch()\n",
    "        \n",
    "        ou_noise.reset()\n",
    "        \n",
    "        # Critic loss  \n",
    "        Qvals = critic(states, actions)\n",
    "        with torch.no_grad():\n",
    "            actions_ = actor_target(next_states)\n",
    "            Qvals_ = critic_target(next_states, actions_)\n",
    "            Qvals_[dones] = 0.0\n",
    "            target = rewards + GAMMA * Qvals_\n",
    "        critic_loss = F.smooth_l1_loss(target, Qvals) \n",
    "\n",
    "        # Actor loss\n",
    "        actor_loss = -critic(states, actor(states)).mean()\n",
    "        \n",
    "        # update networks\n",
    "        actor_optimizer.zero_grad()\n",
    "        actor_loss.backward()\n",
    "        actor_optimizer.step()\n",
    "\n",
    "        critic_optimizer.zero_grad()\n",
    "        critic_loss.backward() \n",
    "        critic_optimizer.step()\n",
    "\n",
    "        # update target networks \n",
    "        for target_param, param in zip(actor_target.parameters(), actor.parameters()):\n",
    "            target_param.data.copy_(param.data * TAU + target_param.data * (1.0 - TAU))\n",
    "\n",
    "        for target_param, param in zip(critic_target.parameters(), critic.parameters()):\n",
    "            target_param.data.copy_(param.data * TAU + target_param.data * (1.0 - TAU))"
   ]
  },
  {
   "cell_type": "markdown",
   "id": "afa6a0a0",
   "metadata": {
    "heading_collapsed": true
   },
   "source": [
    "## Training"
   ]
  },
  {
   "cell_type": "code",
   "execution_count": 11,
   "id": "5ca4a37e",
   "metadata": {
    "ExecuteTime": {
     "end_time": "2023-01-05T14:19:45.902776Z",
     "start_time": "2023-01-05T13:22:22.225224Z"
    },
    "code_folding": [],
    "hidden": true
   },
   "outputs": [
    {
     "name": "stdout",
     "output_type": "stream",
     "text": [
      "Episode: 100  Return: 140.47712409572557  Average Return: 21.967313543810018      \n",
      "Episode: 200  Return: -161.34947192658092  Average Return: 3.7432489459286056       \n",
      "Episode: 300  Return: 146.32209425246418  Average Return: 51.68344311162897         \n",
      "Episode: 400  Return: 229.85712285522789  Average Return: 8.46210855097206         \n",
      "Episode: 500  Return: 254.70504577423924  Average Return: 54.74644978323483         \n",
      "Episode: 600  Return: 255.42798256245052  Average Return: 78.42130372867445        \n",
      "Episode: 700  Return: 8.551664862686351  Average Return: 89.34278940345584         \n",
      "Episode: 800  Return: -152.5613647352972  Average Return: 129.67565430835816       \n",
      "Episode: 900  Return: -150.77302252147288  Average Return: -1.4801545684434092      \n",
      "Episode: 1000  Return: -71.8971185510094  Average Return: 11.662680399546268         \n",
      "Episode: 1100  Return: -126.01991703776436  Average Return: 36.37437671955667        \n",
      "Solved! Episode: 1153  Return: 288.25481978119274  Average Return: 201.79281857536571\n"
     ]
    }
   ],
   "source": [
    "returns = deque(maxlen=50)\n",
    "history = []\n",
    "\n",
    "for episode in count():\n",
    "    state = env.reset()\n",
    "    episode_reward = 0\n",
    "    done = False\n",
    "    while not done:\n",
    "        with torch.no_grad():\n",
    "            action = actor(T(state)).cpu().numpy() + ou_noise()\n",
    "        new_state, reward, done, _ = env.step(action) \n",
    "        transition = Transition(state, action, reward, done, new_state)\n",
    "        replay_memory.append(transition)\n",
    "        update()         \n",
    "        state = new_state\n",
    "        episode_reward += reward\n",
    "            \n",
    "    returns.append(episode_reward)\n",
    "    score = np.mean(returns)\n",
    "    \n",
    "    history.append((episode,score))\n",
    "    print(f'Episode: {episode}  Return: {episode_reward}  Average Return: {score}      ', end='\\r')\n",
    "    \n",
    "    if episode > 0 and episode % 100 == 0:\n",
    "        print(f'Episode: {episode}  Return: {episode_reward}  Average Return: {score}')\n",
    "    if score >= 195:\n",
    "        print(f'Solved! Episode: {episode}  Return: {episode_reward}  Average Return: {score}')\n",
    "        break"
   ]
  },
  {
   "cell_type": "code",
   "execution_count": 12,
   "id": "4034d64e",
   "metadata": {
    "ExecuteTime": {
     "end_time": "2023-01-05T14:44:59.058917Z",
     "start_time": "2023-01-05T14:44:58.906916Z"
    },
    "hidden": true
   },
   "outputs": [
    {
     "data": {
      "image/png": "[encoded data removed]",
      "text/plain": [
       "<Figure size 640x480 with 1 Axes>"
      ]
     },
     "metadata": {},
     "output_type": "display_data"
    }
   ],
   "source": [
    "history = pd.DataFrame(\n",
    "    history, columns=['Episode', 'Score'])\n",
    "\n",
    "(fig, ax) = plt.subplots(1, 1)\n",
    "\n",
    "ax.plot(history['Episode'], history['Score'])\n",
    "\n",
    "ax.set_xlabel('Episode')\n",
    "ax.set_ylabel('Score over last 50 episodes')\n",
    "\n",
    "plt.show()"
   ]
  }
 ],
 "metadata": {
  "kernelspec": {
   "display_name": "Python 3 (ipykernel)",
   "language": "python",
   "name": "python3"
  },
  "language_info": {
   "codemirror_mode": {
    "name": "ipython",
    "version": 3
   },
   "file_extension": ".py",
   "mimetype": "text/x-python",
   "name": "python",
   "nbconvert_exporter": "python",
   "pygments_lexer": "ipython3",
   "version": "3.9.7"
  },
  "toc": {
   "base_numbering": 1,
   "nav_menu": {},
   "number_sections": true,
   "sideBar": true,
   "skip_h1_title": false,
   "title_cell": "Table of Contents",
   "title_sidebar": "Contents",
   "toc_cell": false,
   "toc_position": {
    "height": "calc(100% - 180px)",
    "left": "10px",
    "top": "150px",
    "width": "352px"
   },
   "toc_section_display": true,
   "toc_window_display": false
  }
 },
 "nbformat": 4,
 "nbformat_minor": 5
}
